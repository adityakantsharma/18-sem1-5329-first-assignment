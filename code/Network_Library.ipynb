{
 "cells": [
  {
   "cell_type": "code",
   "execution_count": 466,
   "metadata": {
    "collapsed": true
   },
   "outputs": [],
   "source": [
    "import numpy as np\n",
    "np.random.seed(seed=1)\n",
    "import h5py\n",
    "with h5py.File('../data/Assignment-1-Dataset/train_128.h5','r') as H:\n",
    "    data = np.copy(H['data'])\n",
    "with h5py.File('../data/Assignment-1-Dataset/train_label.h5','r') as H:\n",
    "    label = np.copy(H['label'])"
   ]
  },
  {
   "cell_type": "code",
   "execution_count": 480,
   "metadata": {},
   "outputs": [],
   "source": [
    "with h5py.File('../data/Assignment-1-Dataset/train_128.h5','r') as H:\n",
    "    data = np.copy(H['data'])\n",
    "with h5py.File('../data/Assignment-1-Dataset/train_label.h5','r') as H:\n",
    "    label = np.copy(H['label'])\n",
    "\n",
    "data = data.copy()\n",
    "data = np.c_[data, np.ones(len(data))]\n",
    "weights = (np.random.rand(g.shape[1]) - 0.5)/100\n",
    "alphas = (np.random.rand(g.shape[1]) - 0.5)/100\n",
    "\n",
    "g = data.copy()"
   ]
  },
  {
   "cell_type": "code",
   "execution_count": 469,
   "metadata": {},
   "outputs": [],
   "source": [
    "def relu(column):\n",
    "    # activation function that gives x if x > 0 else 0\n",
    "    return np.max(np.array([np.zeros((len(column),)),column]),axis=0)\n",
    "\n",
    "def leaky_relu(column, alpha=0.05):\n",
    "    # activation function that draws on ReLU but has a slight gradient for x < 0\n",
    "    return np.max(np.array([column*alpha,column]),axis=0)\n",
    "\n",
    "def sigmoid(column):\n",
    "    # activation function that returns a value between 0 and 1, good for probabilities\n",
    "    return 1/(1+np.exp(-column))\n",
    "\n",
    "def tanh(column):\n",
    "    # Activation function that returns a value between -1 and 1\n",
    "    # problems occurred with large negatives when applying (1 - np.exp(-column)) / (1 + np.exp(-column)) \n",
    "    # using numpy equivalent instead\n",
    "    return np.tanh(column)\n",
    "\n",
    "def softmax(inputs):\n",
    "    # Applies the softmax function to a list of outputs\n",
    "    j = np.array([np.exp(i) for i in inputs])\n",
    "    return j/j.sum()\n",
    "\n",
    "def node_mult(d_in, weights):\n",
    "    # Multiply each feature (including constant) by its weight then sum the result\n",
    "    d_in = d_in.copy()\n",
    "    for d in range(d_in.shape[1]):\n",
    "        d_in[:,d] = weights[d] * d_in[:,d]\n",
    "    return d_in.sum(axis=1)\n",
    "\n",
    "def activate(d_in, kind='relu'):\n",
    "    # Apply an activation function to a node's output\n",
    "    actionary = {\n",
    "        'relu':relu,\n",
    "        'leaky_relu':leaky_relu,\n",
    "        'sigmoid':sigmoid,\n",
    "        'tanh':tanh\n",
    "    }\n",
    "    return actionary[kind](d_in)"
   ]
  },
  {
   "cell_type": "code",
   "execution_count": 518,
   "metadata": {},
   "outputs": [],
   "source": [
    "class Node(object):\n",
    "    '''\n",
    "    A Node is a modular element of a neural network. It is defined by:\n",
    "    \n",
    "    data_in - the feature inputs, including a constant feature\n",
    "    activation - the activation function to be applied to the node output\n",
    "    weights - the coefficients to be applied to the features positionally\n",
    "    train_rate - the rate at which gradient descent updates the weights of the node\n",
    "    max_iter - the number of training steps to take before ending a training session\n",
    "    \n",
    "    '''\n",
    "    \n",
    "    def __init__(self, \n",
    "                 n_features, \n",
    "                 activation='sigmoid', \n",
    "                 weights='None', \n",
    "                 train_rate=0.01, \n",
    "                 max_iter=1000):\n",
    "        self.n_features = n_features\n",
    "        if weights=='None':\n",
    "            self.weights=np.random.rand(n_features)\n",
    "        else:\n",
    "            self.weights=weights\n",
    "        self.activation_func = activation\n",
    "        self.train_rate = train_rate\n",
    "        self.max_iter = max_iter\n",
    "        \n",
    "    def set_input(self,data_in):\n",
    "        # Set the input data for the node, must have number of features equal to n_features used for initialisation\n",
    "        self.data_in = data_in\n",
    "        \n",
    "    def score_input(self, weights='None', alphas='None'):\n",
    "        # Apply the weights to the features and return the output for the data set in set_input\n",
    "        if weights=='None':\n",
    "            weights = self.weights\n",
    "        data_in = self.data_in.copy()\n",
    "        self.output = activate(node_mult(self.data_in, weights),kind=self.activation_func)\n",
    "        return self.output\n",
    "    \n",
    "    def score_gradients(self):\n",
    "        # Calculate the average gradient for each coefficient via a tiny increment over the input data\n",
    "        self.grads_ = []\n",
    "        increment = 0.000001\n",
    "        for i in range(self.data_in.shape[1]):\n",
    "            self.new_weights = self.weights.copy()\n",
    "            self.new_weights[i] = self.new_weights[i] + increment\n",
    "            j1 = self.score_input()\n",
    "            j2 = self.score_input(weights=self.new_weights)\n",
    "            self.grads_.append(np.mean(j1-j2)/increment)\n",
    "        self.grads_ = np.array(self.grads_)\n",
    "        return self.grads_\n",
    "            \n",
    "    def update_weights(self):\n",
    "        # update the coefficients in the direction of the gradient\n",
    "        # TODO - set to update against direction of the error when error calculation is done\n",
    "        self.score_gradients()\n",
    "        self.weights = self.weights + self.grads_ * self.train_rate\n",
    "        return self.weights\n",
    "        \n",
    "    def gradient_descend(self):\n",
    "        # recompute coefficients until gradients flatten or max_iter is reached\n",
    "        old = self.weights[:]\n",
    "        for i in range(self.max_iter):\n",
    "            new = self.update_weights()\n",
    "            if i % 200 == 0:\n",
    "                print(np.max(old - new))\n",
    "            if np.max(old - new) < 0.0000001:\n",
    "                break\n",
    "        return i"
   ]
  },
  {
   "cell_type": "code",
   "execution_count": 524,
   "metadata": {
    "collapsed": true
   },
   "outputs": [],
   "source": [
    "test = Node(129,'sigmoid')"
   ]
  },
  {
   "cell_type": "code",
   "execution_count": 525,
   "metadata": {},
   "outputs": [],
   "source": [
    "test.set_input(g[:500])"
   ]
  },
  {
   "cell_type": "code",
   "execution_count": 526,
   "metadata": {},
   "outputs": [
    {
     "name": "stderr",
     "output_type": "stream",
     "text": [
      "/Users/jmacdonald/anaconda/lib/python3.5/site-packages/ipykernel_launcher.py:11: RuntimeWarning: overflow encountered in exp\n",
      "  # This is added back by InteractiveShellApp.init_path()\n",
      "/Users/jmacdonald/anaconda/lib/python3.5/site-packages/ipykernel_launcher.py:33: FutureWarning: elementwise comparison failed; returning scalar instead, but in the future will perform elementwise comparison\n"
     ]
    },
    {
     "name": "stdout",
     "output_type": "stream",
     "text": [
      "0.00428145699449\n",
      "0.00383287172804\n",
      "0.00454786637551\n",
      "0.0231259992468\n",
      "0.0231557552695\n",
      "CPU times: user 3min 22s, sys: 2.33 s, total: 3min 25s\n",
      "Wall time: 3min 32s\n"
     ]
    },
    {
     "data": {
      "text/plain": [
       "999"
      ]
     },
     "execution_count": 526,
     "metadata": {},
     "output_type": "execute_result"
    }
   ],
   "source": [
    "%%time\n",
    "\n",
    "test.gradient_descend()"
   ]
  },
  {
   "cell_type": "code",
   "execution_count": null,
   "metadata": {
    "collapsed": true
   },
   "outputs": [],
   "source": [
    "# Time taken to perform 129 weight adjustments times 1000 for a single node: 3mins 32s."
   ]
  },
  {
   "cell_type": "code",
   "execution_count": null,
   "metadata": {
    "collapsed": true
   },
   "outputs": [],
   "source": []
  }
 ],
 "metadata": {
  "kernelspec": {
   "display_name": "Python 3",
   "language": "python",
   "name": "python3"
  },
  "language_info": {
   "codemirror_mode": {
    "name": "ipython",
    "version": 3
   },
   "file_extension": ".py",
   "mimetype": "text/x-python",
   "name": "python",
   "nbconvert_exporter": "python",
   "pygments_lexer": "ipython3",
   "version": "3.5.4"
  }
 },
 "nbformat": 4,
 "nbformat_minor": 2
}
