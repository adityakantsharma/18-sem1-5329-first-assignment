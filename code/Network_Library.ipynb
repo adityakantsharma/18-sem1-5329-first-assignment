{
 "cells": [
  {
   "cell_type": "code",
   "execution_count": 5,
   "metadata": {
    "collapsed": true
   },
   "outputs": [],
   "source": [
    "import numpy as np\n",
    "np.random.seed(seed=1)\n",
    "import h5py\n",
    "with h5py.File('../data/Assignment-1-Dataset/train_128.h5','r') as H:\n",
    "    data = np.copy(H['data'])\n",
    "with h5py.File('../data/Assignment-1-Dataset/train_label.h5','r') as H:\n",
    "    label = np.copy(H['label'])"
   ]
  },
  {
   "cell_type": "code",
   "execution_count": 99,
   "metadata": {
    "collapsed": true
   },
   "outputs": [],
   "source": [
    "g = data.copy()"
   ]
  },
  {
   "cell_type": "code",
   "execution_count": 257,
   "metadata": {},
   "outputs": [],
   "source": [
    "with h5py.File('../data/Assignment-1-Dataset/train_128.h5','r') as H:\n",
    "    data = np.copy(H['data'])\n",
    "with h5py.File('../data/Assignment-1-Dataset/train_label.h5','r') as H:\n",
    "    label = np.copy(H['label'])\n",
    "\n",
    "data = data.copy()\n",
    "data = np.c_[data, np.ones(len(data))]\n",
    "weights = (np.random.rand(g.shape[1]) - 0.5)/100\n",
    "alphas = (np.random.rand(g.shape[1]) - 0.5)/100"
   ]
  },
  {
   "cell_type": "code",
   "execution_count": 258,
   "metadata": {},
   "outputs": [],
   "source": [
    "def relu(column):\n",
    "    return np.max(np.array([np.zeros((len(column),)),column]),axis=0)\n",
    "\n",
    "def leaky_relu(column, alpha=0.05):\n",
    "    return np.max(np.array([column*alpha,column]),axis=0)\n",
    "\n",
    "def sigmoid(column):\n",
    "    return 1/(1+np.exp(-column))\n",
    "\n",
    "def tanh(column):\n",
    "    # problems with large negatives when applying\n",
    "    # (1 - np.exp(-column)) / (1 + np.exp(-column)) so just using numpy equivalent\n",
    "    return np.tanh(column)\n",
    "\n",
    "def softmax(inputs):\n",
    "    j = np.array([np.exp(i) for i in inputs])\n",
    "    return j/j.sum()\n",
    "\n",
    "def node_mult(d_in, weights, alphas):\n",
    "    #Apply weights to each dimension of X\n",
    "    d_in = d_in.copy()\n",
    "    for d in range(d_in.shape[1]):\n",
    "        d_in[:,d] = weights[d] * d_in[:,d]\n",
    "        d_in[:,d] = alphas[d] + d_in[:,d]\n",
    "    return d_in.sum(axis=1)\n",
    "\n",
    "def activate(d_in, kind='relu'):\n",
    "    actionary = {\n",
    "        'relu':relu,\n",
    "        'leaky_relu':leaky_relu,\n",
    "        'sigmoid':sigmoid,\n",
    "        'tanh':tanh\n",
    "    }\n",
    "    return actionary[kind](d_in)"
   ]
  },
  {
   "cell_type": "code",
   "execution_count": 456,
   "metadata": {},
   "outputs": [],
   "source": [
    "class Node(object):\n",
    "    def __init__(self, data_in, activation, train_rate=0.01, max_iter=10000):\n",
    "        self.weights = np.random.rand(data_in.shape[1])\n",
    "        self.alphas = np.random.rand(data_in.shape[1])\n",
    "        self.actifunc = activation\n",
    "        self.data_in = data_in\n",
    "        self.train_rate = train_rate\n",
    "        self.max_iter = max_iter\n",
    "        \n",
    "    def score_input(self, weights='None', alphas='None'):\n",
    "        if weights=='None':\n",
    "            weights = self.weights\n",
    "        if alphas=='None':\n",
    "            alphas = self.alphas\n",
    "        data_in = self.data_in.copy()\n",
    "        self.output = activate(node_mult(self.data_in, weights, alphas),kind=self.actifunc)\n",
    "        return self.output\n",
    "    \n",
    "    def score_gradients(self):\n",
    "        self.grads_ = []\n",
    "        increment = 0.000001\n",
    "        for i in range(self.data_in.shape[1]):\n",
    "            self.new_weights = self.weights.copy()\n",
    "            self.new_weights[i] = self.new_weights[i] + increment\n",
    "            j1 = self.score_input()\n",
    "            j2 = self.score_input(weights=self.new_weights)\n",
    "            self.grads_.append(np.mean(j1-j2)/increment)\n",
    "        self.grads_ = np.array(self.grads_)\n",
    "        return self.grads_\n",
    "            \n",
    "    def update_weights(self):\n",
    "        self.score_gradients()\n",
    "        self.weights = self.weights + self.grads_ * self.train_rate\n",
    "        return self.weights\n",
    "        \n",
    "    def gradient_descend(self):\n",
    "        old = self.weights[:]\n",
    "        for i in range(self.max_iter):\n",
    "            new = self.update_weights()\n",
    "            print(np.max(old - new))\n",
    "            if np.max(old - new) < 0.0000001:\n",
    "                break\n",
    "        return i"
   ]
  }
 ],
 "metadata": {
  "kernelspec": {
   "display_name": "Python 3",
   "language": "python",
   "name": "python3"
  },
  "language_info": {
   "codemirror_mode": {
    "name": "ipython",
    "version": 3
   },
   "file_extension": ".py",
   "mimetype": "text/x-python",
   "name": "python",
   "nbconvert_exporter": "python",
   "pygments_lexer": "ipython3",
   "version": "3.5.4"
  }
 },
 "nbformat": 4,
 "nbformat_minor": 2
}
